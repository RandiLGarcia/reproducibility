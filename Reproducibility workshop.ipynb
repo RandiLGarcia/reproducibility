{
 "cells": [
  {
   "cell_type": "markdown",
   "metadata": {
    "collapsed": true,
    "slideshow": {
     "slide_type": "slide"
    }
   },
   "source": [
    "## Reproducible science in Jupyter\n",
    "This is a Jupyter notebook. [Jupyter](http://jupyter.org/) is \"an open-source web application that allows you to create and share documents that contain live code, equations, visualizations and explanatory text.\" Jupyter is an ideal environment for conducting reproducible science, as it allows you to create rich, interactive documents that consolidate data preprocessing, analysis code, and visualization of results, all in one document.\n",
    "\n",
    "In this workshop, we'll demonstrate some of the core features of the Jupyter notebook. Although of the code listings in this notebook will be in Python, the focus is on Jupyter itself rather than on the Python code; in principle, we could replace Python with another language (e.g., R), as Jupyter supports [dozens of different languages](https://github.com/jupyter/jupyter/wiki/Jupyter-kernels)."
   ]
  },
  {
   "cell_type": "markdown",
   "metadata": {
    "slideshow": {
     "slide_type": "slide"
    }
   },
   "source": [
    "## Why Jupyter?\n",
    "* Allows us to write completely reproducible documents\n",
    "* Combine code, results, and text in one place\n",
    "* We can mix languages\n",
    "* Built-in LaTeX support\n",
    "* Completely interactive: make a change and see what happens\n",
    "* Some examples..."
   ]
  },
  {
   "cell_type": "markdown",
   "metadata": {
    "slideshow": {
     "slide_type": "slide"
    }
   },
   "source": [
    "## Jupyter basics\n",
    "A good introduction to Jupyter's basic features can be found in the [official documentation](http://jupyter-notebook.readthedocs.io/en/latest/examples/Notebook/Notebook%20Basics.html). In this demo, we'll experiment with the following features:\n",
    "* Different modes (command vs. edit)\n",
    "* Different cell types (code vs. markdown)\n",
    "* Interactive computation\n",
    "* Magic commands\n",
    "* In-line plotting\n",
    "* Getting help\n",
    "\n",
    "If you have Jupyter installed on your machine, you can fire up a new notebook by typing `jupyter notebook` from a terminal window or command prompt. If Jupyter isn't installed, not to worry! You can follow along online via [try.jupyter.org](https://try.jupyter.org/)--though you won't be able to save any of your work, and may have to restart your notebook periodically."
   ]
  }
 ],
 "metadata": {
  "celltoolbar": "Slideshow",
  "kernelspec": {
   "display_name": "Python 3",
   "language": "python",
   "name": "python3"
  },
  "language_info": {
   "codemirror_mode": {
    "name": "ipython",
    "version": 3
   },
   "file_extension": ".py",
   "mimetype": "text/x-python",
   "name": "python",
   "nbconvert_exporter": "python",
   "pygments_lexer": "ipython3",
   "version": "3.5.2"
  }
 },
 "nbformat": 4,
 "nbformat_minor": 2
}
